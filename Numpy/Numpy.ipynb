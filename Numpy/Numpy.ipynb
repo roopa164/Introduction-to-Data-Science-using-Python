{
 "cells": [
  {
   "cell_type": "code",
   "execution_count": 1,
   "id": "7fb3e315",
   "metadata": {},
   "outputs": [],
   "source": [
    "import numpy as np"
   ]
  },
  {
   "cell_type": "code",
   "execution_count": 2,
   "id": "3eefb4a4",
   "metadata": {},
   "outputs": [
    {
     "name": "stdout",
     "output_type": "stream",
     "text": [
      "Requirement already satisfied: numpy in c:\\users\\roopagupta\\anaconda3\\lib\\site-packages (1.20.3)\n"
     ]
    }
   ],
   "source": [
    "## Install numpy if not\n",
    "\n",
    "#!pip install numpy"
   ]
  },
  {
   "cell_type": "markdown",
   "id": "f6b15bb9",
   "metadata": {},
   "source": [
    "## How to create numpy array\n",
    "            1) List\n",
    "            2) in-build functions"
   ]
  },
  {
   "cell_type": "markdown",
   "id": "9dde53ea",
   "metadata": {},
   "source": [
    "#### Create 1-D Numpy array using 1-D list"
   ]
  },
  {
   "cell_type": "code",
   "execution_count": 3,
   "id": "8fd4abb6",
   "metadata": {},
   "outputs": [
    {
     "data": {
      "text/plain": [
       "list"
      ]
     },
     "execution_count": 3,
     "metadata": {},
     "output_type": "execute_result"
    }
   ],
   "source": [
    "# From list\n",
    "\n",
    "my_list = [1,2,3,4,5]\n",
    "type(my_list)"
   ]
  },
  {
   "cell_type": "code",
   "execution_count": 4,
   "id": "9d814f64",
   "metadata": {},
   "outputs": [
    {
     "data": {
      "text/plain": [
       "numpy.ndarray"
      ]
     },
     "execution_count": 4,
     "metadata": {},
     "output_type": "execute_result"
    }
   ],
   "source": [
    "my_array = np.array(my_list)\n",
    "type(my_array)"
   ]
  },
  {
   "cell_type": "code",
   "execution_count": 5,
   "id": "24a9ac61",
   "metadata": {},
   "outputs": [
    {
     "data": {
      "text/plain": [
       "[1, 2, 3, 4, 5]"
      ]
     },
     "execution_count": 5,
     "metadata": {},
     "output_type": "execute_result"
    }
   ],
   "source": [
    "my_list"
   ]
  },
  {
   "cell_type": "code",
   "execution_count": 6,
   "id": "35213610",
   "metadata": {},
   "outputs": [
    {
     "data": {
      "text/plain": [
       "array([1, 2, 3, 4, 5])"
      ]
     },
     "execution_count": 6,
     "metadata": {},
     "output_type": "execute_result"
    }
   ],
   "source": [
    "my_array"
   ]
  },
  {
   "cell_type": "markdown",
   "id": "4bd03860",
   "metadata": {},
   "source": [
    "#### Create 2-D Numpy array using 2-D list"
   ]
  },
  {
   "cell_type": "code",
   "execution_count": 2,
   "id": "d4bd8150",
   "metadata": {},
   "outputs": [
    {
     "data": {
      "text/plain": [
       "[[2, 3], [4, 5]]"
      ]
     },
     "execution_count": 2,
     "metadata": {},
     "output_type": "execute_result"
    }
   ],
   "source": [
    "# 2D-List\n",
    "two_list = [[2,3] , [4,5]]\n",
    "two_list"
   ]
  },
  {
   "cell_type": "code",
   "execution_count": 8,
   "id": "7be9a355",
   "metadata": {},
   "outputs": [
    {
     "data": {
      "text/plain": [
       "array([[2, 3],\n",
       "       [4, 5]])"
      ]
     },
     "execution_count": 8,
     "metadata": {},
     "output_type": "execute_result"
    }
   ],
   "source": [
    "matrix = np.array(two_list)\n",
    "matrix"
   ]
  },
  {
   "cell_type": "code",
   "execution_count": 9,
   "id": "3ae4157e",
   "metadata": {},
   "outputs": [
    {
     "data": {
      "text/plain": [
       "array([[ 4,  9],\n",
       "       [16, 25]])"
      ]
     },
     "execution_count": 9,
     "metadata": {},
     "output_type": "execute_result"
    }
   ],
   "source": [
    "matrix *matrix"
   ]
  },
  {
   "cell_type": "code",
   "execution_count": 10,
   "id": "74df684c",
   "metadata": {},
   "outputs": [
    {
     "name": "stdout",
     "output_type": "stream",
     "text": [
      "[1, 2, 3, 'a', 'b']\n"
     ]
    }
   ],
   "source": [
    "## array stores homogeneuos element : same data type elements\n",
    "\n",
    "ab1 = [1,2,3,'a','b']\n",
    "ab1\n",
    "print(ab1)"
   ]
  },
  {
   "cell_type": "code",
   "execution_count": 11,
   "id": "21b42426",
   "metadata": {},
   "outputs": [
    {
     "name": "stdout",
     "output_type": "stream",
     "text": [
      "['1' '2' '3' 'a' 'b']\n"
     ]
    }
   ],
   "source": [
    "ab1_array = np.array(ab1)\n",
    "print(ab1_array)"
   ]
  },
  {
   "cell_type": "code",
   "execution_count": 12,
   "id": "1b5395d8",
   "metadata": {},
   "outputs": [
    {
     "data": {
      "text/plain": [
       "array([1. , 3.3, 5. , 2. ])"
      ]
     },
     "execution_count": 12,
     "metadata": {},
     "output_type": "execute_result"
    }
   ],
   "source": [
    "ab2 = [1 , 3.3, 5, 2]\n",
    "np.array(ab2)"
   ]
  },
  {
   "cell_type": "markdown",
   "id": "80077562",
   "metadata": {},
   "source": [
    "##### create Numpy Array using in-built Functions :\n",
    "        1) arange\n",
    "        2) zeros\n",
    "        3) ones\n",
    "        4) identity/eye-->to create identity matrix\n",
    "        5) reshape"
   ]
  },
  {
   "cell_type": "code",
   "execution_count": 13,
   "id": "93717307",
   "metadata": {},
   "outputs": [
    {
     "data": {
      "text/plain": [
       "array([0, 1, 2, 3, 4, 5, 6, 7, 8, 9])"
      ]
     },
     "execution_count": 13,
     "metadata": {},
     "output_type": "execute_result"
    }
   ],
   "source": [
    "# in built functions \n",
    "np.arange(10) # by default the interval is 1"
   ]
  },
  {
   "cell_type": "code",
   "execution_count": 14,
   "id": "5cb6b6e1",
   "metadata": {},
   "outputs": [
    {
     "data": {
      "text/plain": [
       "array([20, 21, 22, 23, 24, 25, 26, 27, 28, 29])"
      ]
     },
     "execution_count": 14,
     "metadata": {},
     "output_type": "execute_result"
    }
   ],
   "source": [
    "np.arange(20 , 30 )"
   ]
  },
  {
   "cell_type": "code",
   "execution_count": 15,
   "id": "9ef680ab",
   "metadata": {},
   "outputs": [
    {
     "data": {
      "text/plain": [
       "array([40, 45, 50, 55, 60, 65, 70, 75, 80, 85, 90, 95])"
      ]
     },
     "execution_count": 15,
     "metadata": {},
     "output_type": "execute_result"
    }
   ],
   "source": [
    "np.arange( 40 , 100 , 5)"
   ]
  },
  {
   "cell_type": "code",
   "execution_count": 16,
   "id": "7a068ccc",
   "metadata": {},
   "outputs": [
    {
     "data": {
      "text/plain": [
       "array([0., 0., 0., 0., 0.])"
      ]
     },
     "execution_count": 16,
     "metadata": {},
     "output_type": "execute_result"
    }
   ],
   "source": [
    "np.zeros(5)"
   ]
  },
  {
   "cell_type": "code",
   "execution_count": 17,
   "id": "a2c03561",
   "metadata": {},
   "outputs": [
    {
     "data": {
      "text/plain": [
       "array([0, 0, 0, 0, 0])"
      ]
     },
     "execution_count": 17,
     "metadata": {},
     "output_type": "execute_result"
    }
   ],
   "source": [
    "np.zeros(5 , dtype = 'int')"
   ]
  },
  {
   "cell_type": "code",
   "execution_count": 18,
   "id": "8d46a124",
   "metadata": {},
   "outputs": [
    {
     "data": {
      "text/plain": [
       "array([[0., 0., 0.],\n",
       "       [0., 0., 0.]])"
      ]
     },
     "execution_count": 18,
     "metadata": {},
     "output_type": "execute_result"
    }
   ],
   "source": [
    "np.zeros((2,3))"
   ]
  },
  {
   "cell_type": "code",
   "execution_count": 19,
   "id": "221975fd",
   "metadata": {},
   "outputs": [
    {
     "data": {
      "text/plain": [
       "array([10., 10., 10., 10., 10.])"
      ]
     },
     "execution_count": 19,
     "metadata": {},
     "output_type": "execute_result"
    }
   ],
   "source": [
    "array_5 = np.ones(5) * 10\n",
    "array_5"
   ]
  },
  {
   "cell_type": "code",
   "execution_count": 20,
   "id": "3c58df06",
   "metadata": {},
   "outputs": [
    {
     "data": {
      "text/plain": [
       "array([1., 1., 1., 1., 1., 1.])"
      ]
     },
     "execution_count": 20,
     "metadata": {},
     "output_type": "execute_result"
    }
   ],
   "source": [
    "np.ones(6)"
   ]
  },
  {
   "cell_type": "code",
   "execution_count": 21,
   "id": "dc092eea",
   "metadata": {},
   "outputs": [
    {
     "data": {
      "text/plain": [
       "array([[1., 1., 1., 1., 1.],\n",
       "       [1., 1., 1., 1., 1.]])"
      ]
     },
     "execution_count": 21,
     "metadata": {},
     "output_type": "execute_result"
    }
   ],
   "source": [
    "np.ones((2,5))"
   ]
  },
  {
   "cell_type": "code",
   "execution_count": 22,
   "id": "c85bdf09",
   "metadata": {},
   "outputs": [
    {
     "data": {
      "text/plain": [
       "array([[3., 0., 0.],\n",
       "       [0., 3., 0.],\n",
       "       [0., 0., 3.]])"
      ]
     },
     "execution_count": 22,
     "metadata": {},
     "output_type": "execute_result"
    }
   ],
   "source": [
    "np.identity(3)*3 # to generate identity matrix"
   ]
  },
  {
   "cell_type": "code",
   "execution_count": 23,
   "id": "4dbc1420",
   "metadata": {},
   "outputs": [
    {
     "data": {
      "text/plain": [
       "array([[1., 0., 0.],\n",
       "       [0., 1., 0.],\n",
       "       [0., 0., 1.]])"
      ]
     },
     "execution_count": 23,
     "metadata": {},
     "output_type": "execute_result"
    }
   ],
   "source": [
    "np.eye(3)# to generate identity matrix"
   ]
  },
  {
   "cell_type": "code",
   "execution_count": 24,
   "id": "e67bd996",
   "metadata": {},
   "outputs": [
    {
     "data": {
      "text/plain": [
       "array([1, 2, 2, 1, 1, 0, 2, 1, 1, 0])"
      ]
     },
     "execution_count": 24,
     "metadata": {},
     "output_type": "execute_result"
    }
   ],
   "source": [
    "np.random.randint(3, size = 10) # will randomly generate a single number between 0 to 3\n",
    "# 0--> inclusive last number --> exclusive"
   ]
  },
  {
   "cell_type": "code",
   "execution_count": 25,
   "id": "7c914bcb",
   "metadata": {},
   "outputs": [
    {
     "data": {
      "text/plain": [
       "array([ 4, 15,  9,  9, 11])"
      ]
     },
     "execution_count": 25,
     "metadata": {},
     "output_type": "execute_result"
    }
   ],
   "source": [
    "np.random.randint(1, 20 , size = 5)# return 5 elements randomely between 1 to 20"
   ]
  },
  {
   "cell_type": "code",
   "execution_count": 26,
   "id": "9573aff9",
   "metadata": {},
   "outputs": [
    {
     "data": {
      "text/plain": [
       "array([0.40128966, 0.19089405, 0.56351149])"
      ]
     },
     "execution_count": 26,
     "metadata": {},
     "output_type": "execute_result"
    }
   ],
   "source": [
    "np.random.rand(3) # randomly generating number between 0 and 1"
   ]
  },
  {
   "cell_type": "code",
   "execution_count": 27,
   "id": "ca266eb7",
   "metadata": {},
   "outputs": [
    {
     "data": {
      "text/plain": [
       "array([ 0.13501731, -0.07156367,  0.58605979])"
      ]
     },
     "execution_count": 27,
     "metadata": {},
     "output_type": "execute_result"
    }
   ],
   "source": [
    "np.random.randn(3 )"
   ]
  },
  {
   "cell_type": "code",
   "execution_count": 28,
   "id": "df40d957",
   "metadata": {},
   "outputs": [
    {
     "data": {
      "text/plain": [
       "array([0, 0, 0, 0, 0, 0, 0, 0, 0, 0, 0, 0, 0, 0, 0, 0, 0, 0, 0, 0, 0, 0,\n",
       "       0, 0, 0, 0, 0, 0, 0, 0])"
      ]
     },
     "execution_count": 28,
     "metadata": {},
     "output_type": "execute_result"
    }
   ],
   "source": [
    "np.random.randint(0 , 1 , 30)"
   ]
  },
  {
   "cell_type": "code",
   "execution_count": 29,
   "id": "06195db8",
   "metadata": {},
   "outputs": [
    {
     "data": {
      "text/plain": [
       "array([[-0.80924103, -1.22784894, -1.65154051, -0.89351812,  0.28553404],\n",
       "       [-1.73332027, -0.65146964, -1.61811845,  0.4173321 ,  0.72207375],\n",
       "       [ 0.04886996,  0.48967912, -0.31275813,  0.02545173, -0.12203222],\n",
       "       [ 0.24662229,  0.15092015,  0.42581376,  0.20954494, -0.85037161],\n",
       "       [-0.69221854, -0.84055512, -0.55848308,  1.549419  ,  1.97301778]])"
      ]
     },
     "execution_count": 29,
     "metadata": {},
     "output_type": "execute_result"
    }
   ],
   "source": [
    "np.random.randn(5,5)"
   ]
  },
  {
   "cell_type": "code",
   "execution_count": 30,
   "id": "35716069",
   "metadata": {},
   "outputs": [
    {
     "data": {
      "text/plain": [
       "array([ 0,  1,  2,  3,  4,  5,  6,  7,  8,  9, 10, 11, 12, 13, 14, 15, 16,\n",
       "       17, 18, 19])"
      ]
     },
     "execution_count": 30,
     "metadata": {},
     "output_type": "execute_result"
    }
   ],
   "source": [
    "## np.reshape\n",
    "arr_1 = np.arange(20)\n",
    "arr_1"
   ]
  },
  {
   "cell_type": "code",
   "execution_count": 31,
   "id": "ec30b1ff",
   "metadata": {},
   "outputs": [
    {
     "data": {
      "text/plain": [
       "array([[ 0,  1,  2,  3],\n",
       "       [ 4,  5,  6,  7],\n",
       "       [ 8,  9, 10, 11],\n",
       "       [12, 13, 14, 15],\n",
       "       [16, 17, 18, 19]])"
      ]
     },
     "execution_count": 31,
     "metadata": {},
     "output_type": "execute_result"
    }
   ],
   "source": [
    "arr_1.reshape(5,4)"
   ]
  },
  {
   "cell_type": "code",
   "execution_count": 32,
   "id": "95bbb818",
   "metadata": {},
   "outputs": [
    {
     "data": {
      "text/plain": [
       "array([[ 0,  1,  2,  3,  4,  5,  6,  7,  8,  9],\n",
       "       [10, 11, 12, 13, 14, 15, 16, 17, 18, 19]])"
      ]
     },
     "execution_count": 32,
     "metadata": {},
     "output_type": "execute_result"
    }
   ],
   "source": [
    "arr_1.reshape(2,10)"
   ]
  },
  {
   "cell_type": "code",
   "execution_count": 33,
   "id": "ecc4c5ad",
   "metadata": {},
   "outputs": [
    {
     "data": {
      "text/plain": [
       "array([[ 0,  1],\n",
       "       [ 2,  3],\n",
       "       [ 4,  5],\n",
       "       [ 6,  7],\n",
       "       [ 8,  9],\n",
       "       [10, 11],\n",
       "       [12, 13],\n",
       "       [14, 15],\n",
       "       [16, 17],\n",
       "       [18, 19]])"
      ]
     },
     "execution_count": 33,
     "metadata": {},
     "output_type": "execute_result"
    }
   ],
   "source": [
    "arr_1.reshape(10,2)"
   ]
  },
  {
   "cell_type": "markdown",
   "id": "2a0be0a4",
   "metadata": {},
   "source": [
    "## mathematical operations"
   ]
  },
  {
   "cell_type": "code",
   "execution_count": 34,
   "id": "a9759714",
   "metadata": {},
   "outputs": [],
   "source": [
    "arr_1 = np.array([5,1,7,2,3,4])"
   ]
  },
  {
   "cell_type": "code",
   "execution_count": 35,
   "id": "8252c160",
   "metadata": {},
   "outputs": [
    {
     "data": {
      "text/plain": [
       "7"
      ]
     },
     "execution_count": 35,
     "metadata": {},
     "output_type": "execute_result"
    }
   ],
   "source": [
    "arr_1.max()"
   ]
  },
  {
   "cell_type": "code",
   "execution_count": 36,
   "id": "fe8dad70",
   "metadata": {},
   "outputs": [
    {
     "data": {
      "text/plain": [
       "1"
      ]
     },
     "execution_count": 36,
     "metadata": {},
     "output_type": "execute_result"
    }
   ],
   "source": [
    "arr_1.min()"
   ]
  },
  {
   "cell_type": "code",
   "execution_count": 37,
   "id": "2feddcc5",
   "metadata": {},
   "outputs": [
    {
     "data": {
      "text/plain": [
       "2"
      ]
     },
     "execution_count": 37,
     "metadata": {},
     "output_type": "execute_result"
    }
   ],
   "source": [
    "arr_1.argmax()# index of the max value"
   ]
  },
  {
   "cell_type": "code",
   "execution_count": 38,
   "id": "79bdfa89",
   "metadata": {},
   "outputs": [
    {
     "data": {
      "text/plain": [
       "1"
      ]
     },
     "execution_count": 38,
     "metadata": {},
     "output_type": "execute_result"
    }
   ],
   "source": [
    "arr_1.argmin() # index of the min value in the array"
   ]
  },
  {
   "cell_type": "code",
   "execution_count": 39,
   "id": "c059d789",
   "metadata": {},
   "outputs": [
    {
     "data": {
      "text/plain": [
       "array([5, 1, 7, 2, 3, 4])"
      ]
     },
     "execution_count": 39,
     "metadata": {},
     "output_type": "execute_result"
    }
   ],
   "source": [
    "arr_1"
   ]
  },
  {
   "cell_type": "code",
   "execution_count": 40,
   "id": "f01c3a11",
   "metadata": {},
   "outputs": [
    {
     "data": {
      "text/plain": [
       "array([7, 3, 9, 4, 5, 6])"
      ]
     },
     "execution_count": 40,
     "metadata": {},
     "output_type": "execute_result"
    }
   ],
   "source": [
    "arr_1 + 2  "
   ]
  },
  {
   "cell_type": "code",
   "execution_count": 41,
   "id": "2a55d919",
   "metadata": {},
   "outputs": [
    {
     "data": {
      "text/plain": [
       "array([ 1, -3,  3, -2, -1,  0])"
      ]
     },
     "execution_count": 41,
     "metadata": {},
     "output_type": "execute_result"
    }
   ],
   "source": [
    "arr_1 - 4"
   ]
  },
  {
   "cell_type": "code",
   "execution_count": 42,
   "id": "83712bd5",
   "metadata": {},
   "outputs": [
    {
     "data": {
      "text/plain": [
       "array([10,  2, 14,  4,  6,  8])"
      ]
     },
     "execution_count": 42,
     "metadata": {},
     "output_type": "execute_result"
    }
   ],
   "source": [
    "arr_1 * 2"
   ]
  },
  {
   "cell_type": "code",
   "execution_count": 43,
   "id": "c837e7a6",
   "metadata": {},
   "outputs": [
    {
     "data": {
      "text/plain": [
       "array([2.5, 0.5, 3.5, 1. , 1.5, 2. ])"
      ]
     },
     "execution_count": 43,
     "metadata": {},
     "output_type": "execute_result"
    }
   ],
   "source": [
    "arr_1 / 2"
   ]
  },
  {
   "cell_type": "code",
   "execution_count": 44,
   "id": "95d8e4c2",
   "metadata": {},
   "outputs": [
    {
     "name": "stdout",
     "output_type": "stream",
     "text": [
      "[10  2 14  4  6  8]\n"
     ]
    },
    {
     "data": {
      "text/plain": [
       "array([5, 1, 7, 2, 3, 4])"
      ]
     },
     "execution_count": 44,
     "metadata": {},
     "output_type": "execute_result"
    }
   ],
   "source": [
    "arr_2 = arr_1 * 2\n",
    "print(arr_2)\n",
    "arr_1"
   ]
  },
  {
   "cell_type": "code",
   "execution_count": 45,
   "id": "acaf6a60",
   "metadata": {},
   "outputs": [
    {
     "data": {
      "text/plain": [
       "array([50,  2, 98,  8, 18, 32])"
      ]
     },
     "execution_count": 45,
     "metadata": {},
     "output_type": "execute_result"
    }
   ],
   "source": [
    "arr_1 * arr_2 "
   ]
  },
  {
   "cell_type": "code",
   "execution_count": 46,
   "id": "877aca8a",
   "metadata": {},
   "outputs": [
    {
     "name": "stdout",
     "output_type": "stream",
     "text": [
      "(3, 2)\n",
      "(2, 2)\n"
     ]
    },
    {
     "data": {
      "text/plain": [
       "array([[10, 13],\n",
       "       [22, 29],\n",
       "       [10, 15]])"
      ]
     },
     "execution_count": 46,
     "metadata": {},
     "output_type": "execute_result"
    }
   ],
   "source": [
    "arr1=np.array([[1,2],[3,4],[5,0]])\n",
    "arr2=np.array([[2,3],[4,5]])\n",
    "print(arr1.shape)\n",
    "print(arr2.shape)\n",
    "np.matmul(arr1 , arr2\n",
    "         )"
   ]
  },
  {
   "cell_type": "markdown",
   "id": "c6cab751",
   "metadata": {},
   "source": [
    "##### Logical operations "
   ]
  },
  {
   "cell_type": "code",
   "execution_count": 47,
   "id": "3917cdab",
   "metadata": {},
   "outputs": [
    {
     "data": {
      "text/plain": [
       "array([5, 1, 7, 2, 3, 4])"
      ]
     },
     "execution_count": 47,
     "metadata": {},
     "output_type": "execute_result"
    }
   ],
   "source": [
    "arr_1"
   ]
  },
  {
   "cell_type": "code",
   "execution_count": 48,
   "id": "5a0a519d",
   "metadata": {},
   "outputs": [
    {
     "data": {
      "text/plain": [
       "array([False,  True, False,  True,  True,  True])"
      ]
     },
     "execution_count": 48,
     "metadata": {},
     "output_type": "execute_result"
    }
   ],
   "source": [
    "arr_1<5"
   ]
  },
  {
   "cell_type": "code",
   "execution_count": 49,
   "id": "9e18e7c6",
   "metadata": {},
   "outputs": [
    {
     "data": {
      "text/plain": [
       "array([1, 2, 3, 4])"
      ]
     },
     "execution_count": 49,
     "metadata": {},
     "output_type": "execute_result"
    }
   ],
   "source": [
    "arr_1[arr_1<5]"
   ]
  },
  {
   "cell_type": "code",
   "execution_count": 50,
   "id": "80b7201f",
   "metadata": {},
   "outputs": [
    {
     "data": {
      "text/plain": [
       "array([5, 1, 2, 3, 4])"
      ]
     },
     "execution_count": 50,
     "metadata": {},
     "output_type": "execute_result"
    }
   ],
   "source": [
    "arr_1[arr_1 != 7]"
   ]
  },
  {
   "cell_type": "code",
   "execution_count": 51,
   "id": "e0a6f145",
   "metadata": {},
   "outputs": [
    {
     "data": {
      "text/plain": [
       "array([3])"
      ]
     },
     "execution_count": 51,
     "metadata": {},
     "output_type": "execute_result"
    }
   ],
   "source": [
    "arr_1[arr_1 == 3]"
   ]
  },
  {
   "cell_type": "code",
   "execution_count": 52,
   "id": "8fcb8c67",
   "metadata": {},
   "outputs": [
    {
     "data": {
      "text/plain": [
       "array([7])"
      ]
     },
     "execution_count": 52,
     "metadata": {},
     "output_type": "execute_result"
    }
   ],
   "source": [
    "arr_1[arr_1 > 5]"
   ]
  },
  {
   "cell_type": "code",
   "execution_count": 53,
   "id": "3106453b",
   "metadata": {},
   "outputs": [
    {
     "data": {
      "text/plain": [
       "array([5, 7])"
      ]
     },
     "execution_count": 53,
     "metadata": {},
     "output_type": "execute_result"
    }
   ],
   "source": [
    "arr_1[(arr_1 > 5) | (arr_1==5)]"
   ]
  },
  {
   "cell_type": "code",
   "execution_count": 54,
   "id": "1c697e95",
   "metadata": {},
   "outputs": [
    {
     "data": {
      "text/plain": [
       "array([1, 2, 3, 4])"
      ]
     },
     "execution_count": 54,
     "metadata": {},
     "output_type": "execute_result"
    }
   ],
   "source": [
    "arr_1[(arr_1 != 5)  & (arr_1 <5)]"
   ]
  },
  {
   "cell_type": "markdown",
   "id": "34213b47",
   "metadata": {},
   "source": [
    "## indexing and slicing"
   ]
  },
  {
   "cell_type": "code",
   "execution_count": 55,
   "id": "20dd71f3",
   "metadata": {},
   "outputs": [
    {
     "data": {
      "text/plain": [
       "array([5, 1, 7, 2, 3, 4])"
      ]
     },
     "execution_count": 55,
     "metadata": {},
     "output_type": "execute_result"
    }
   ],
   "source": [
    "arr_1"
   ]
  },
  {
   "cell_type": "code",
   "execution_count": 56,
   "id": "9b0611dc",
   "metadata": {},
   "outputs": [
    {
     "data": {
      "text/plain": [
       "2"
      ]
     },
     "execution_count": 56,
     "metadata": {},
     "output_type": "execute_result"
    }
   ],
   "source": [
    "# access elemement 2\n",
    "arr_1[3]"
   ]
  },
  {
   "cell_type": "code",
   "execution_count": 57,
   "id": "0ac52868",
   "metadata": {},
   "outputs": [
    {
     "data": {
      "text/plain": [
       "7"
      ]
     },
     "execution_count": 57,
     "metadata": {},
     "output_type": "execute_result"
    }
   ],
   "source": [
    "#access element 7\n",
    "arr_1[2]"
   ]
  },
  {
   "cell_type": "code",
   "execution_count": 58,
   "id": "b1185883",
   "metadata": {},
   "outputs": [
    {
     "data": {
      "text/plain": [
       "array([1, 7, 2])"
      ]
     },
     "execution_count": 58,
     "metadata": {},
     "output_type": "execute_result"
    }
   ],
   "source": [
    "# access 1, 7, 2\n",
    "\n",
    "arr_1[1:4]"
   ]
  },
  {
   "cell_type": "code",
   "execution_count": 59,
   "id": "085317e9",
   "metadata": {},
   "outputs": [
    {
     "data": {
      "text/plain": [
       "array(['a', 'b', 'c', 'd', 'e', 'f'], dtype='<U1')"
      ]
     },
     "execution_count": 59,
     "metadata": {},
     "output_type": "execute_result"
    }
   ],
   "source": [
    "## Practice question\n",
    "test_arr = np.array(['a' , 'b' ,'c' ,'d' ,'e' , 'f'])\n",
    "test_arr"
   ]
  },
  {
   "cell_type": "markdown",
   "id": "6ec7dcbc",
   "metadata": {},
   "source": [
    " ##### Practice Questions:\n",
    "        1) access element from b to e\n",
    "        2) access element f only\n",
    "        3)access element c and d\n",
    "        4) access all elements except 'f'\n"
   ]
  },
  {
   "cell_type": "code",
   "execution_count": 60,
   "id": "684b1188",
   "metadata": {},
   "outputs": [
    {
     "data": {
      "text/plain": [
       "array(['b', 'c', 'd', 'e'], dtype='<U1')"
      ]
     },
     "execution_count": 60,
     "metadata": {},
     "output_type": "execute_result"
    }
   ],
   "source": [
    "test_arr[1:5]"
   ]
  },
  {
   "cell_type": "code",
   "execution_count": 61,
   "id": "fecab73d",
   "metadata": {},
   "outputs": [
    {
     "data": {
      "text/plain": [
       "'f'"
      ]
     },
     "execution_count": 61,
     "metadata": {},
     "output_type": "execute_result"
    }
   ],
   "source": [
    "test_arr[5]"
   ]
  },
  {
   "cell_type": "code",
   "execution_count": 62,
   "id": "66715712",
   "metadata": {},
   "outputs": [
    {
     "data": {
      "text/plain": [
       "array(['c', 'd'], dtype='<U1')"
      ]
     },
     "execution_count": 62,
     "metadata": {},
     "output_type": "execute_result"
    }
   ],
   "source": [
    "test_arr[2:4]"
   ]
  },
  {
   "cell_type": "code",
   "execution_count": 63,
   "id": "82a32968",
   "metadata": {},
   "outputs": [
    {
     "data": {
      "text/plain": [
       "array(['a', 'b', 'c', 'd', 'e'], dtype='<U1')"
      ]
     },
     "execution_count": 63,
     "metadata": {},
     "output_type": "execute_result"
    }
   ],
   "source": [
    "test_arr[0:5]"
   ]
  },
  {
   "cell_type": "markdown",
   "id": "74be555d",
   "metadata": {},
   "source": [
    "##### Practice Questions:\n",
    "    1) access element from b to e\n",
    "    2) access element f only\n",
    "    3)access element c and d\n",
    "    4) access all elements except 'f"
   ]
  },
  {
   "cell_type": "code",
   "execution_count": 64,
   "id": "5fcf1bda",
   "metadata": {},
   "outputs": [
    {
     "data": {
      "text/plain": [
       "array(['b', 'c', 'd', 'e'], dtype='<U1')"
      ]
     },
     "execution_count": 64,
     "metadata": {},
     "output_type": "execute_result"
    }
   ],
   "source": [
    "test_arr[-5:-1]"
   ]
  },
  {
   "cell_type": "code",
   "execution_count": 65,
   "id": "8e644de0",
   "metadata": {},
   "outputs": [
    {
     "data": {
      "text/plain": [
       "'f'"
      ]
     },
     "execution_count": 65,
     "metadata": {},
     "output_type": "execute_result"
    }
   ],
   "source": [
    "test_arr[-1]"
   ]
  },
  {
   "cell_type": "code",
   "execution_count": 66,
   "id": "dc78ce54",
   "metadata": {},
   "outputs": [
    {
     "data": {
      "text/plain": [
       "array(['c', 'd'], dtype='<U1')"
      ]
     },
     "execution_count": 66,
     "metadata": {},
     "output_type": "execute_result"
    }
   ],
   "source": [
    "test_arr[-4:-2]"
   ]
  },
  {
   "cell_type": "code",
   "execution_count": 67,
   "id": "4df63005",
   "metadata": {},
   "outputs": [
    {
     "data": {
      "text/plain": [
       "array(['a', 'b', 'c', 'd', 'e'], dtype='<U1')"
      ]
     },
     "execution_count": 67,
     "metadata": {},
     "output_type": "execute_result"
    }
   ],
   "source": [
    "test_arr[-6:-1]"
   ]
  },
  {
   "cell_type": "code",
   "execution_count": 68,
   "id": "30d61703",
   "metadata": {},
   "outputs": [
    {
     "data": {
      "text/plain": [
       "array(['a', 'b', 'c', 'd', 'e', 'f'], dtype='<U1')"
      ]
     },
     "execution_count": 68,
     "metadata": {},
     "output_type": "execute_result"
    }
   ],
   "source": [
    "## Array is mutuable: \n",
    "\n",
    "test_arr"
   ]
  },
  {
   "cell_type": "code",
   "execution_count": 69,
   "id": "ab0081ec",
   "metadata": {},
   "outputs": [
    {
     "data": {
      "text/plain": [
       "array(['a', 'b', 'A', 'B', 'e', 'f'], dtype='<U1')"
      ]
     },
     "execution_count": 69,
     "metadata": {},
     "output_type": "execute_result"
    }
   ],
   "source": [
    "test_arr[2:4] =['A','B']\n",
    "test_arr"
   ]
  },
  {
   "cell_type": "code",
   "execution_count": 70,
   "id": "9b965aea",
   "metadata": {},
   "outputs": [
    {
     "data": {
      "text/plain": [
       "array(['a', 'b', 'A', 'B', '1', '1'], dtype='<U1')"
      ]
     },
     "execution_count": 70,
     "metadata": {},
     "output_type": "execute_result"
    }
   ],
   "source": [
    "test_arr[-2: ] = '1'\n",
    "test_arr"
   ]
  },
  {
   "cell_type": "code",
   "execution_count": 72,
   "id": "7cb72319",
   "metadata": {},
   "outputs": [
    {
     "data": {
      "text/plain": [
       "array([[ 5, 10, 15],\n",
       "       [20, 25, 30],\n",
       "       [35, 40, 45]])"
      ]
     },
     "execution_count": 72,
     "metadata": {},
     "output_type": "execute_result"
    }
   ],
   "source": [
    "arr_2d = np.array((\n",
    "                        [5,10,15],\n",
    "                        [20,25,30],\n",
    "                        [35 , 40 , 45]\n",
    "))\n",
    "arr_2d"
   ]
  },
  {
   "cell_type": "code",
   "execution_count": 73,
   "id": "09076339",
   "metadata": {
    "collapsed": true
   },
   "outputs": [
    {
     "data": {
      "text/plain": [
       "40"
      ]
     },
     "execution_count": 73,
     "metadata": {},
     "output_type": "execute_result"
    }
   ],
   "source": [
    "## access element 40\n",
    "arr_2d[2 , 1]\n"
   ]
  },
  {
   "cell_type": "code",
   "execution_count": 74,
   "id": "51a0e24b",
   "metadata": {
    "scrolled": true
   },
   "outputs": [
    {
     "data": {
      "text/plain": [
       "30"
      ]
     },
     "execution_count": 74,
     "metadata": {},
     "output_type": "execute_result"
    }
   ],
   "source": [
    "# access element 30\n",
    "arr_2d[1, 2]"
   ]
  },
  {
   "cell_type": "code",
   "execution_count": 93,
   "id": "4e042f9d",
   "metadata": {},
   "outputs": [
    {
     "data": {
      "text/plain": [
       "array([[ 5, 10, 15],\n",
       "       [20, 25, 30],\n",
       "       [35, 40, 45]])"
      ]
     },
     "execution_count": 93,
     "metadata": {},
     "output_type": "execute_result"
    }
   ],
   "source": [
    "arr_2d"
   ]
  },
  {
   "cell_type": "markdown",
   "id": "8072f36f",
   "metadata": {},
   "source": [
    "## practice questions:\n",
    "        1) access 25 element\n",
    "        2) access 35 value\n",
    "        3) [10,15]\n",
    "            [25,30]\n",
    "        4) access [20,25,30]\n",
    "        5) [5,10]\n",
    "            [20,25]\n",
    "        6) [20,25,30]\n",
    "            [35,40,45]"
   ]
  },
  {
   "cell_type": "code",
   "execution_count": 92,
   "id": "130d4b0b",
   "metadata": {},
   "outputs": [
    {
     "data": {
      "text/plain": [
       "array([[ 5, 10],\n",
       "       [20, 25]])"
      ]
     },
     "execution_count": 92,
     "metadata": {},
     "output_type": "execute_result"
    }
   ],
   "source": [
    "arr_2d[-3:-1 , -3:-1]"
   ]
  },
  {
   "cell_type": "code",
   "execution_count": 94,
   "id": "f3c7b5df",
   "metadata": {},
   "outputs": [
    {
     "data": {
      "text/plain": [
       "array([[20, 25, 30],\n",
       "       [35, 40, 45]])"
      ]
     },
     "execution_count": 94,
     "metadata": {},
     "output_type": "execute_result"
    }
   ],
   "source": [
    "arr_2d[-2:]"
   ]
  },
  {
   "cell_type": "code",
   "execution_count": 76,
   "id": "3792ade1",
   "metadata": {},
   "outputs": [
    {
     "data": {
      "text/plain": [
       "array([[ 5, 10, 15],\n",
       "       [20, 25, 30],\n",
       "       [35, 40, 45]])"
      ]
     },
     "execution_count": 76,
     "metadata": {},
     "output_type": "execute_result"
    }
   ],
   "source": [
    "arr_2d"
   ]
  },
  {
   "cell_type": "code",
   "execution_count": 77,
   "id": "67687c35",
   "metadata": {},
   "outputs": [
    {
     "data": {
      "text/plain": [
       "25"
      ]
     },
     "execution_count": 77,
     "metadata": {},
     "output_type": "execute_result"
    }
   ],
   "source": [
    "arr_2d[1,1]"
   ]
  },
  {
   "cell_type": "code",
   "execution_count": 78,
   "id": "a4c6639f",
   "metadata": {},
   "outputs": [
    {
     "data": {
      "text/plain": [
       "35"
      ]
     },
     "execution_count": 78,
     "metadata": {},
     "output_type": "execute_result"
    }
   ],
   "source": [
    "arr_2d[2, 0]"
   ]
  },
  {
   "cell_type": "code",
   "execution_count": 80,
   "id": "5cd498fb",
   "metadata": {},
   "outputs": [
    {
     "data": {
      "text/plain": [
       "array([[10, 15],\n",
       "       [25, 30]])"
      ]
     },
     "execution_count": 80,
     "metadata": {},
     "output_type": "execute_result"
    }
   ],
   "source": [
    "arr_2d[0:2 ,1:3 ]"
   ]
  },
  {
   "cell_type": "code",
   "execution_count": 81,
   "id": "62628595",
   "metadata": {},
   "outputs": [
    {
     "data": {
      "text/plain": [
       "array([20, 25, 30])"
      ]
     },
     "execution_count": 81,
     "metadata": {},
     "output_type": "execute_result"
    }
   ],
   "source": [
    "arr_2d[1]"
   ]
  },
  {
   "cell_type": "code",
   "execution_count": 82,
   "id": "6234bdae",
   "metadata": {},
   "outputs": [
    {
     "data": {
      "text/plain": [
       "array([[ 5, 10],\n",
       "       [20, 25]])"
      ]
     },
     "execution_count": 82,
     "metadata": {},
     "output_type": "execute_result"
    }
   ],
   "source": [
    "arr_2d[0:2, 0:2]"
   ]
  },
  {
   "cell_type": "code",
   "execution_count": 87,
   "id": "148bdea3",
   "metadata": {},
   "outputs": [
    {
     "data": {
      "text/plain": [
       "array([[20, 25, 30],\n",
       "       [35, 40, 45]])"
      ]
     },
     "execution_count": 87,
     "metadata": {},
     "output_type": "execute_result"
    }
   ],
   "source": [
    "arr_2d[1:3 , 0:3]"
   ]
  },
  {
   "cell_type": "code",
   "execution_count": 90,
   "id": "a04f02a4",
   "metadata": {},
   "outputs": [
    {
     "data": {
      "text/plain": [
       "array([35, 40])"
      ]
     },
     "execution_count": 90,
     "metadata": {},
     "output_type": "execute_result"
    }
   ],
   "source": [
    "arr_2d[-1 , 0:2]"
   ]
  },
  {
   "cell_type": "markdown",
   "id": "b23d7a37",
   "metadata": {},
   "source": [
    "## slice data based on random index of rows and columns"
   ]
  },
  {
   "cell_type": "code",
   "execution_count": 96,
   "id": "99dc150f",
   "metadata": {},
   "outputs": [
    {
     "data": {
      "text/plain": [
       "array([[ 5, 10, 15],\n",
       "       [20, 25, 30],\n",
       "       [35, 40, 45],\n",
       "       [ 1,  2,  3],\n",
       "       [40, 50, 60]])"
      ]
     },
     "execution_count": 96,
     "metadata": {},
     "output_type": "execute_result"
    }
   ],
   "source": [
    "arr12 = np.array((\n",
    "                    [5,10,15],\n",
    "                    [20,25, 30],\n",
    "                    [35, 40 , 45],\n",
    "                    [1,2,3],\n",
    "                    [40, 50 , 60]\n",
    "    ))\n",
    "arr12"
   ]
  },
  {
   "cell_type": "code",
   "execution_count": 97,
   "id": "5b32d894",
   "metadata": {},
   "outputs": [
    {
     "data": {
      "text/plain": [
       "array([[ 5, 10, 15],\n",
       "       [ 1,  2,  3]])"
      ]
     },
     "execution_count": 97,
     "metadata": {},
     "output_type": "execute_result"
    }
   ],
   "source": [
    "# [5,10,15]\n",
    "# [1,2,3]\n",
    "\n",
    "arr12[[0 , 3]]"
   ]
  },
  {
   "cell_type": "code",
   "execution_count": 98,
   "id": "7f8334a0",
   "metadata": {},
   "outputs": [
    {
     "data": {
      "text/plain": [
       "array([[ 5, 15],\n",
       "       [20, 30],\n",
       "       [35, 45],\n",
       "       [ 1,  3],\n",
       "       [40, 60]])"
      ]
     },
     "execution_count": 98,
     "metadata": {},
     "output_type": "execute_result"
    }
   ],
   "source": [
    "arr12[ : , [0, 2]]"
   ]
  },
  {
   "cell_type": "code",
   "execution_count": 99,
   "id": "4a2e0612",
   "metadata": {},
   "outputs": [
    {
     "data": {
      "text/plain": [
       "array([[ 5, 10, 15],\n",
       "       [20, 25, 30],\n",
       "       [35, 40, 45],\n",
       "       [ 1,  2,  3],\n",
       "       [40, 50, 60]])"
      ]
     },
     "execution_count": 99,
     "metadata": {},
     "output_type": "execute_result"
    }
   ],
   "source": [
    "arr12"
   ]
  },
  {
   "cell_type": "code",
   "execution_count": 100,
   "id": "eb5c9195",
   "metadata": {},
   "outputs": [
    {
     "data": {
      "text/plain": [
       "array([10, 25])"
      ]
     },
     "execution_count": 100,
     "metadata": {},
     "output_type": "execute_result"
    }
   ],
   "source": [
    "# 10,25\n",
    "# 30, 45\n",
    "arr12[0:2 , 1]"
   ]
  },
  {
   "cell_type": "code",
   "execution_count": 103,
   "id": "f7118c9d",
   "metadata": {},
   "outputs": [
    {
     "data": {
      "text/plain": [
       "array([20, 60])"
      ]
     },
     "execution_count": 103,
     "metadata": {},
     "output_type": "execute_result"
    }
   ],
   "source": [
    "# 20 and 60\n",
    "arr12[[1,4] ,[0,2]]"
   ]
  }
 ],
 "metadata": {
  "kernelspec": {
   "display_name": "Python 3 (ipykernel)",
   "language": "python",
   "name": "python3"
  },
  "language_info": {
   "codemirror_mode": {
    "name": "ipython",
    "version": 3
   },
   "file_extension": ".py",
   "mimetype": "text/x-python",
   "name": "python",
   "nbconvert_exporter": "python",
   "pygments_lexer": "ipython3",
   "version": "3.9.7"
  }
 },
 "nbformat": 4,
 "nbformat_minor": 5
}
